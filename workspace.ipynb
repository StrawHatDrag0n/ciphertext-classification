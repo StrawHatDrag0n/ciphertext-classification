{
 "cells": [
  {
   "cell_type": "code",
   "execution_count": 1,
   "id": "737ef1d0",
   "metadata": {
    "pycharm": {
     "name": "#%%\n"
    }
   },
   "outputs": [],
   "source": [
    "import numpy as np\n",
    "import tensorflow as tf\n",
    "import tensorflow.keras as keras\n",
    "from keras.preprocessing.sequence import pad_sequences\n",
    "from keras.preprocessing.text import Tokenizer\n",
    "from keras.models import Sequential\n",
    "from keras.layers import Embedding, Dense, Dropout, LSTM, GRU, Bidirectional, ConvLSTM1D\n",
    "from keras.callbacks import EarlyStopping, TensorBoard, ModelCheckpoint\n",
    "from sklearn.metrics import accuracy_score\n",
    "from keras import regularizers\n",
    "import matplotlib.pyplot as plt\n",
    "from keras_self_attention import SeqSelfAttention\n",
    "%matplotlib inline"
   ]
  },
  {
   "cell_type": "code",
   "execution_count": 2,
   "id": "535868ff",
   "metadata": {
    "pycharm": {
     "name": "#%%\n"
    }
   },
   "outputs": [],
   "source": [
    "def load_train_dev_test_data():\n",
    "    train, dev, test = [], [], []\n",
    "    for x in open('./train_enc.tsv', encoding='utf-8'):\n",
    "        x = x.rstrip('\\n\\r').split('\\t')\n",
    "        # x[0] will be the label (0 or 1), and x[1] will be the ciphertext sentence.\n",
    "        x[0] = int(x[0]) \n",
    "        train.append(x)\n",
    "    for x in open('./dev_enc.tsv', encoding='utf-8'):\n",
    "        x = x.rstrip('\\n\\r').split('\\t')\n",
    "        # x[0] will be the label (0 or 1), and x[1] will be the ciphertext sentence.\n",
    "        x[0] = int(x[0]) \n",
    "        dev.append(x)\n",
    "    for x in open('./test_enc_unlabeled.tsv', encoding='utf-8'):\n",
    "        x = x.rstrip('\\n\\r')\n",
    "        test.append(x)\n",
    "    return train, dev, test"
   ]
  },
  {
   "cell_type": "code",
   "execution_count": 3,
   "id": "3129171e",
   "metadata": {
    "pycharm": {
     "name": "#%%\n"
    }
   },
   "outputs": [],
   "source": [
    "train, dev, test = load_train_dev_test_data()"
   ]
  },
  {
   "cell_type": "code",
   "execution_count": 4,
   "id": "e48e7fd8",
   "metadata": {
    "pycharm": {
     "name": "#%%\n"
    }
   },
   "outputs": [],
   "source": [
    "def create_text_label_split(data, is_test=False):\n",
    "    texts = []\n",
    "    labels = []\n",
    "    for row in data:\n",
    "        texts.append(row[1])\n",
    "        if not is_test:\n",
    "            labels.append(row[0])\n",
    "    return texts, labels"
   ]
  },
  {
   "cell_type": "code",
   "execution_count": 5,
   "id": "f3a1acc6",
   "metadata": {
    "pycharm": {
     "name": "#%%\n"
    }
   },
   "outputs": [],
   "source": [
    "def create_texts_split(data):\n",
    "    texts_split = []\n",
    "    for sentence in data:\n",
    "        texts_split.append(sentence.split(' '))\n",
    "    return texts_split"
   ]
  },
  {
   "cell_type": "code",
   "execution_count": 6,
   "id": "f8e37a81",
   "metadata": {
    "pycharm": {
     "name": "#%%\n"
    }
   },
   "outputs": [],
   "source": [
    "def create_vocabulary(data):\n",
    "    vocab = set()\n",
    "    for sentence in data:\n",
    "        vocab = vocab.union(set(sentence))\n",
    "    return vocab"
   ]
  },
  {
   "cell_type": "code",
   "execution_count": 7,
   "id": "617e207d",
   "metadata": {
    "pycharm": {
     "name": "#%%\n"
    }
   },
   "outputs": [],
   "source": [
    "# Split the dataset and pre-process it\n",
    "\n",
    "#Train dataset\n",
    "train_texts, train_labels = create_text_label_split(train)\n",
    "train_texts_split = create_texts_split(train_texts)\n",
    "\n",
    "#Dev dataset\n",
    "dev_texts, dev_labels = create_text_label_split(dev)\n",
    "dev_texts_split = create_texts_split(dev_texts)\n",
    "\n",
    "#Test dataset\n",
    "test_texts, _ = create_text_label_split(test, is_test=True) \n",
    "test_texts_split = create_texts_split(test_texts)\n",
    "\n",
    "train_dev_texts_split = train_texts_split + dev_texts_split\n",
    "train_dev_labels = train_labels + dev_labels\n",
    "\n",
    "all_texts_split = train_texts_split + dev_texts_split + test_texts_split"
   ]
  },
  {
   "cell_type": "code",
   "execution_count": 8,
   "id": "eabe12b7",
   "metadata": {
    "pycharm": {
     "name": "#%%\n"
    }
   },
   "outputs": [],
   "source": [
    "# calculate max seq len\n",
    "def get_max_seq_len(data):\n",
    "    return max([len(seq) for seq in data])"
   ]
  },
  {
   "cell_type": "code",
   "execution_count": 9,
   "id": "add44771",
   "metadata": {
    "pycharm": {
     "name": "#%%\n"
    }
   },
   "outputs": [],
   "source": [
    "# Setting the max_seq_len over all data\n",
    "max_seq_len = get_max_seq_len(all_texts_split)"
   ]
  },
  {
   "cell_type": "code",
   "execution_count": 10,
   "id": "f7124548",
   "metadata": {
    "pycharm": {
     "name": "#%%\n"
    }
   },
   "outputs": [],
   "source": [
    "# Create a vocabulary\n",
    "\n",
    "# using train\n",
    "# vocab = create_vocabulary(train_texts_split) \n",
    "\n",
    "#using train + dev\n",
    "# vocab = create_vocabulary(train_dev_texts_split)\n",
    "\n",
    "# using all (train + dev + test)\n",
    "vocab = create_vocabulary(all_texts_split)\n",
    "\n",
    "vocab_size = len(vocab) + 1"
   ]
  },
  {
   "cell_type": "code",
   "execution_count": 11,
   "id": "f1805848",
   "metadata": {
    "pycharm": {
     "name": "#%%\n"
    }
   },
   "outputs": [],
   "source": [
    "# Tokenize the dataset\n",
    "def get_padded_sequences(vocab, data, max_seq_len):\n",
    "    tokenizer = Tokenizer(filters=[])\n",
    "    tokenizer.fit_on_texts(vocab)\n",
    "    seq = tokenizer.texts_to_sequences(data)\n",
    "    seq_pad = pad_sequences(seq, maxlen=max_seq_len)\n",
    "    return seq_pad"
   ]
  },
  {
   "cell_type": "code",
   "execution_count": 12,
   "id": "4bd6ee1d",
   "metadata": {
    "pycharm": {
     "name": "#%%\n"
    }
   },
   "outputs": [],
   "source": [
    "X_train = get_padded_sequences(vocab,train_texts_split, max_seq_len)\n",
    "X_dev = get_padded_sequences(vocab, dev_texts_split, max_seq_len)\n",
    "X_test = get_padded_sequences(vocab, test_texts_split, max_seq_len)"
   ]
  },
  {
   "cell_type": "code",
   "execution_count": 13,
   "id": "06d31141",
   "metadata": {
    "pycharm": {
     "name": "#%%\n"
    }
   },
   "outputs": [],
   "source": [
    "y_train = np.array(train_labels)\n",
    "y_dev = np.array(dev_labels)"
   ]
  },
  {
   "cell_type": "code",
   "execution_count": 14,
   "id": "4381f571",
   "metadata": {
    "pycharm": {
     "name": "#%%\n"
    }
   },
   "outputs": [],
   "source": [
    "def plot_history(history):\n",
    "    plt.plot(history.history['accuracy'])\n",
    "    plt.plot(history.history['val_accuracy'])\n",
    "    plt.title('model accuracy')\n",
    "    plt.ylabel('accuracy')\n",
    "    plt.xlabel('epoch')\n",
    "    plt.legend(['train', 'validation'], loc='upper left')\n",
    "    plt.show()"
   ]
  },
  {
   "cell_type": "code",
   "execution_count": 17,
   "id": "4ee8bc83",
   "metadata": {
    "pycharm": {
     "name": "#%%\n"
    }
   },
   "outputs": [
    {
     "name": "stdout",
     "output_type": "stream",
     "text": [
      "WARNING:tensorflow:Layer gru_1 will not use cuDNN kernels since it doesn't meet the criteria. It will use a generic GPU kernel as fallback when running on GPU.\n",
      "WARNING:tensorflow:Layer gru_1 will not use cuDNN kernels since it doesn't meet the criteria. It will use a generic GPU kernel as fallback when running on GPU.\n",
      "WARNING:tensorflow:Layer gru_1 will not use cuDNN kernels since it doesn't meet the criteria. It will use a generic GPU kernel as fallback when running on GPU.\n",
      "Model: \"sequential_1\"\n",
      "_________________________________________________________________\n",
      "Layer (type)                 Output Shape              Param #   \n",
      "=================================================================\n",
      "embedding_1 (Embedding)      (None, 56, 32)            685600    \n",
      "_________________________________________________________________\n",
      "bidirectional_1 (Bidirection (None, 20)                2640      \n",
      "_________________________________________________________________\n",
      "dense_2 (Dense)              (None, 50)                1050      \n",
      "_________________________________________________________________\n",
      "dense_3 (Dense)              (None, 1)                 51        \n",
      "=================================================================\n",
      "Total params: 689,341\n",
      "Trainable params: 689,341\n",
      "Non-trainable params: 0\n",
      "_________________________________________________________________\n",
      "Epoch 1/100\n",
      "127/127 [==============================] - 165s 1s/step - loss: 1.1814 - accuracy: 0.5366 - val_loss: 0.9229 - val_accuracy: 0.5451\n",
      "Epoch 2/100\n",
      "127/127 [==============================] - 158s 1s/step - loss: 0.7426 - accuracy: 0.7089 - val_loss: 0.5349 - val_accuracy: 0.8086\n",
      "Epoch 3/100\n",
      "127/127 [==============================] - 148s 1s/step - loss: 0.4005 - accuracy: 0.8727 - val_loss: 0.4223 - val_accuracy: 0.8555\n",
      "Epoch 4/100\n",
      "127/127 [==============================] - 152s 1s/step - loss: 0.2877 - accuracy: 0.9156 - val_loss: 0.4126 - val_accuracy: 0.8594\n",
      "Epoch 5/100\n",
      "127/127 [==============================] - 147s 1s/step - loss: 0.2266 - accuracy: 0.9390 - val_loss: 0.3954 - val_accuracy: 0.8693\n",
      "Epoch 6/100\n",
      "127/127 [==============================] - 169s 1s/step - loss: 0.1951 - accuracy: 0.9506 - val_loss: 0.4054 - val_accuracy: 0.8737\n",
      "Epoch 7/100\n",
      "127/127 [==============================] - 167s 1s/step - loss: 0.1743 - accuracy: 0.9571 - val_loss: 0.3966 - val_accuracy: 0.8762\n",
      "Epoch 8/100\n",
      "127/127 [==============================] - 158s 1s/step - loss: 0.1567 - accuracy: 0.9625 - val_loss: 0.4044 - val_accuracy: 0.8811\n",
      "Epoch 9/100\n",
      "127/127 [==============================] - 158s 1s/step - loss: 0.1455 - accuracy: 0.9650 - val_loss: 0.4248 - val_accuracy: 0.8811\n",
      "Epoch 10/100\n",
      "127/127 [==============================] - 174s 1s/step - loss: 0.1349 - accuracy: 0.9662 - val_loss: 0.4425 - val_accuracy: 0.8742\n"
     ]
    },
    {
     "data": {
      "image/png": "[encoded data removed]",
      "text/plain": [
       "<Figure size 432x288 with 1 Axes>"
      ]
     },
     "metadata": {
      "needs_background": "light"
     },
     "output_type": "display_data"
    },
    {
     "name": "stdout",
     "output_type": "stream",
     "text": [
      "64/64 - 8s - loss: 0.4425 - accuracy: 0.8742\n",
      "[0.44245973229408264, 0.874198317527771]\n"
     ]
    }
   ],
   "source": [
    "def create_model(vocab_size, max_seq_len, embedding_len, dropout):\n",
    "    model = Sequential()\n",
    "    model.add(Embedding(vocab_size, embedding_len, input_length=max_seq_len))\n",
    "#     model.add(GRU(100, \n",
    "#                   return_sequences=True, \n",
    "#                   dropout=dropout, \n",
    "#                   recurrent_dropout=dropout,\n",
    "#                   kernel_regularizer=regularizers.l2(l2=0.1), \n",
    "#                   recurrent_regularizer=regularizers.l2(l2=0.1)))\n",
    "    model.add(Bidirectional(GRU(10, \n",
    "#                                  return_sequences=True,\n",
    "                                 dropout=dropout, \n",
    "                                 recurrent_dropout=dropout,\n",
    "                                 kernel_regularizer='l2', \n",
    "                                 recurrent_regularizer='l2')))\n",
    "    model.add(Dense(50, activation='relu'))\n",
    "    model.add(Dense(1, \n",
    "                    activation='sigmoid', \n",
    "                    kernel_regularizer='l2'))\n",
    "    model.compile(loss='binary_crossentropy', optimizer='adam', metrics=['accuracy'])\n",
    "\n",
    "    model.summary()\n",
    "    \n",
    "    return  model\n",
    "\n",
    "early_stoping_callback = EarlyStopping(patience=5, min_delta=0.001)\n",
    "tensorboard_callback = TensorBoard()\n",
    "\n",
    "callbacks = [\n",
    "    early_stoping_callback,\n",
    "    tensorboard_callback\n",
    "]\n",
    "\n",
    "model_checkpoint_callback = ModelCheckpoint(monitor='val_accuracy',filepath='weights.{epoch:02d}-{val_loss:.2f}.hdf5')\n",
    "\n",
    "model = create_model(vocab_size, max_seq_len, 32, 0.4)\n",
    "\n",
    "history = model.fit(X_train, y_train, epochs=100, batch_size=128, validation_data=(X_dev, y_dev), verbose=1,\n",
    "                   callbacks=callbacks)\n",
    "\n",
    "plot_history(history)\n",
    "\n",
    "scores = model.evaluate(X_dev, y_dev, verbose=2)\n",
    "print(scores)"
   ]
  },
  {
   "cell_type": "code",
   "execution_count": 16,
   "id": "a7d6de8c",
   "metadata": {
    "pycharm": {
     "name": "#%%\n"
    }
   },
   "outputs": [
    {
     "ename": "ValueError",
     "evalue": "The truth value of an array with more than one element is ambiguous. Use a.any() or a.all()",
     "output_type": "error",
     "traceback": [
      "\u001B[1;31m---------------------------------------------------------------------------\u001B[0m",
      "\u001B[1;31mValueError\u001B[0m                                Traceback (most recent call last)",
      "Input \u001B[1;32mIn [16]\u001B[0m, in \u001B[0;36m<cell line: 2>\u001B[1;34m()\u001B[0m\n\u001B[0;32m      1\u001B[0m results \u001B[38;5;241m=\u001B[39m model\u001B[38;5;241m.\u001B[39mpredict(X_test)\n\u001B[1;32m----> 2\u001B[0m results \u001B[38;5;241m=\u001B[39m [\u001B[38;5;241m1\u001B[39m \u001B[38;5;28;01mif\u001B[39;00m(x \u001B[38;5;241m>\u001B[39m \u001B[38;5;241m0.5\u001B[39m) \u001B[38;5;28;01melse\u001B[39;00m \u001B[38;5;241m0\u001B[39m \u001B[38;5;28;01mfor\u001B[39;00m x \u001B[38;5;129;01min\u001B[39;00m results]\n\u001B[0;32m      3\u001B[0m \u001B[38;5;66;03m# write your prediction results to 'upload_predictions.txt' and upload that later\u001B[39;00m\n\u001B[0;32m      4\u001B[0m \u001B[38;5;28;01mwith\u001B[39;00m \u001B[38;5;28mopen\u001B[39m(\u001B[38;5;124m'\u001B[39m\u001B[38;5;124mupload_predictions.txt\u001B[39m\u001B[38;5;124m'\u001B[39m, \u001B[38;5;124m'\u001B[39m\u001B[38;5;124mw\u001B[39m\u001B[38;5;124m'\u001B[39m, encoding \u001B[38;5;241m=\u001B[39m \u001B[38;5;124m'\u001B[39m\u001B[38;5;124mutf-8\u001B[39m\u001B[38;5;124m'\u001B[39m) \u001B[38;5;28;01mas\u001B[39;00m fp:\n",
      "Input \u001B[1;32mIn [16]\u001B[0m, in \u001B[0;36m<listcomp>\u001B[1;34m(.0)\u001B[0m\n\u001B[0;32m      1\u001B[0m results \u001B[38;5;241m=\u001B[39m model\u001B[38;5;241m.\u001B[39mpredict(X_test)\n\u001B[1;32m----> 2\u001B[0m results \u001B[38;5;241m=\u001B[39m [\u001B[38;5;241m1\u001B[39m \u001B[38;5;28;01mif\u001B[39;00m(\u001B[43mx\u001B[49m\u001B[43m \u001B[49m\u001B[38;5;241;43m>\u001B[39;49m\u001B[43m \u001B[49m\u001B[38;5;241;43m0.5\u001B[39;49m) \u001B[38;5;28;01melse\u001B[39;00m \u001B[38;5;241m0\u001B[39m \u001B[38;5;28;01mfor\u001B[39;00m x \u001B[38;5;129;01min\u001B[39;00m results]\n\u001B[0;32m      3\u001B[0m \u001B[38;5;66;03m# write your prediction results to 'upload_predictions.txt' and upload that later\u001B[39;00m\n\u001B[0;32m      4\u001B[0m \u001B[38;5;28;01mwith\u001B[39;00m \u001B[38;5;28mopen\u001B[39m(\u001B[38;5;124m'\u001B[39m\u001B[38;5;124mupload_predictions.txt\u001B[39m\u001B[38;5;124m'\u001B[39m, \u001B[38;5;124m'\u001B[39m\u001B[38;5;124mw\u001B[39m\u001B[38;5;124m'\u001B[39m, encoding \u001B[38;5;241m=\u001B[39m \u001B[38;5;124m'\u001B[39m\u001B[38;5;124mutf-8\u001B[39m\u001B[38;5;124m'\u001B[39m) \u001B[38;5;28;01mas\u001B[39;00m fp:\n",
      "\u001B[1;31mValueError\u001B[0m: The truth value of an array with more than one element is ambiguous. Use a.any() or a.all()"
     ]
    }
   ],
   "source": [
    "results = model.predict(X_test)\n",
    "results = [1 if(x > 0.5) else 0 for x in results]\n",
    "# write your prediction results to 'upload_predictions.txt' and upload that later\n",
    "with open('upload_predictions.txt', 'w', encoding = 'utf-8') as fp:\n",
    "    for x in results:\n",
    "        fp.write(str(x) + '\\n')"
   ]
  },
  {
   "cell_type": "code",
   "execution_count": 18,
   "id": "a134c763",
   "metadata": {
    "pycharm": {
     "name": "#%%\n"
    }
   },
   "outputs": [],
   "source": [
    "model.save('bi_gru_recurrent_dropout.h5')"
   ]
  },
  {
   "cell_type": "code",
   "execution_count": null,
   "id": "e89b2245",
   "metadata": {
    "pycharm": {
     "name": "#%%\n"
    }
   },
   "outputs": [],
   "source": []
  }
 ],
 "metadata": {
  "kernelspec": {
   "display_name": "Python 3 (ipykernel)",
   "language": "python",
   "name": "python3"
  },
  "language_info": {
   "codemirror_mode": {
    "name": "ipython",
    "version": 3
   },
   "file_extension": ".py",
   "mimetype": "text/x-python",
   "name": "python",
   "nbconvert_exporter": "python",
   "pygments_lexer": "ipython3",
   "version": "3.8.12"
  }
 },
 "nbformat": 4,
 "nbformat_minor": 5
}