{
 "cells": [
  {
   "cell_type": "markdown",
   "metadata": {
    "pycharm": {
     "name": "#%% md\n"
    }
   },
   "source": [
    "### Read training, dev and unlabeled test data"
   ]
  },
  {
   "cell_type": "markdown",
   "metadata": {
    "pycharm": {
     "name": "#%% md\n"
    }
   },
   "source": [
    "The following provides a starting code (Python 3) of how to read the labeled training and dev cipher text, and unlabeled test cipher text, into lists."
   ]
  },
  {
   "cell_type": "code",
   "execution_count": 1,
   "metadata": {
    "pycharm": {
     "name": "#%%\n"
    }
   },
   "outputs": [],
   "source": [
    "train, dev, test = [], [], []"
   ]
  },
  {
   "cell_type": "code",
   "execution_count": 2,
   "metadata": {
    "pycharm": {
     "name": "#%%\n"
    }
   },
   "outputs": [
    {
     "name": "stdout",
     "output_type": "stream",
     "text": [
      "16220\n",
      "[[0, 'lkêcê yoúc cêêö y#êjl lw mówám Újám j Úêê# ütlk Úol lkêú z#ê ctöé8ú ówl xoóóú éê#xw#öê#c .'], [0, '6êcétlê jolêot8 zc éê#xw#öjóáê , tl zc j #jlkê# 8tcl8êcc jöÚ8ê 6wüó lkê öt668ê wx lkê #wj6 , ükê#ê lkê lkêöjltá t#wótêc j#ê lww wÚ2twoc jó6 lkê cê+oj8 éw8tltác lww cöoy .'], [0, 'tx lktc kw8t6jú öw2tê tc coééwcê6 lw Úê j ytxl , cwöêÚw6ú oóü#jééê6 tl êj#8ú , lwwm wol j88 lkê yww6 cloxx , jó6 8êxl Úêktó6 lkê á#jé ( 8tlê#j88ú ) .']]\n"
     ]
    }
   ],
   "source": [
    "for x in open('./train_enc.tsv', encoding='utf-8'):\n",
    "    x = x.rstrip('\\n\\r').split('\\t')\n",
    "    # x[0] will be the label (0 or 1), and x[1] will be the ciphertext sentence.\n",
    "    x[0] = int(x[0]) \n",
    "    train.append(x)\n",
    "print (len(train))\n",
    "print (train[:3])"
   ]
  },
  {
   "cell_type": "code",
   "execution_count": 3,
   "metadata": {
    "pycharm": {
     "name": "#%%\n"
    }
   },
   "outputs": [
    {
     "name": "stdout",
     "output_type": "stream",
     "text": [
      "2027\n",
      "[[1, 'ów8jó Ú#j2ê8ú l#êj6c ükê#ê xêü jöê#tájó xt8öc 6j#ê lw 6ê82ê 77 tólw lkê üw#86 wx jöÚt2j8êóáê jó6 jöÚtyotlú <<<'], [0, 'ê2êó öo#ékú zc ê+éê#l áwötá ltötóy jó6 xjöê6 ákj#tcöj áj ózl #êcáoê lktc êxxw#l .'], [1, 'üt88 jcco#ê68ú #jóm jc wóê wx lkê á8ê2ê#êcl , öwcl 6êáêélt2ê8ú jöoctóy áwöê6têc wx lkê úêj# .']]\n"
     ]
    }
   ],
   "source": [
    "for x in open('./dev_enc.tsv', encoding='utf-8'):\n",
    "    x = x.rstrip('\\n\\r').split('\\t')\n",
    "    # x[0] will be the label (0 or 1), and x[1] will be the ciphertext sentence.\n",
    "    x[0] = int(x[0]) \n",
    "    dev.append(x)\n",
    "print (len(dev))\n",
    "print (dev[:3])"
   ]
  },
  {
   "cell_type": "markdown",
   "metadata": {
    "pycharm": {
     "name": "#%% md\n"
    }
   },
   "source": [
    "#### Different from 'train' and 'dev' that are both list of tuples, 'test' will be just a list."
   ]
  },
  {
   "cell_type": "code",
   "execution_count": 4,
   "metadata": {
    "pycharm": {
     "name": "#%%\n"
    }
   },
   "outputs": [
    {
     "name": "stdout",
     "output_type": "stream",
     "text": [
      "2028\n",
      "['j 6t6jáltá jó6 6o88 6wáoöêólj#ú y8w#txútóy cwxlüj#ê jój#ákú .', 'ówlktóy cltámc , #êj88ú , ê+áêél j 8tóyê#tóy á#êêétóêcc wóê xêê8c x#wö Úêtóy 6#jyyê6 lk#woyk j cj6 , cw#6t6 oót2ê#cê wx yoóc , 6#oyc , j2j#táê jó6 6jöjyê6 6#êjöc .', 'öo#ékú jó6 üt8cwó jáloj88ú öjmê j é#êllú yww6 lêjö <<< Úol lkê é#wvêál co##woó6tóy lkêö tc 6tcl#êcctóy8ú #wlê .']\n"
     ]
    }
   ],
   "source": [
    "for x in open('./test_enc_unlabeled.tsv', encoding='utf-8'):\n",
    "    x = x.rstrip('\\n\\r')\n",
    "    test.append(x)\n",
    "print (len(test))\n",
    "print (test[:3])"
   ]
  },
  {
   "cell_type": "markdown",
   "metadata": {
    "pycharm": {
     "name": "#%% md\n"
    }
   },
   "source": [
    "#### You can split every sentence into lists of words by white spaces."
   ]
  },
  {
   "cell_type": "code",
   "execution_count": 5,
   "metadata": {
    "pycharm": {
     "name": "#%%\n"
    }
   },
   "outputs": [],
   "source": [
    "train_split = [[x[0], x[1].split(' ')] for x in train]\n",
    "dev_split = [[x[0], x[1].split(' ')] for x in dev]\n",
    "test_split = [[x.split(' ')] for x in test]"
   ]
  },
  {
   "cell_type": "markdown",
   "metadata": {
    "pycharm": {
     "name": "#%% md\n"
    }
   },
   "source": [
    "### Main Code Body"
   ]
  },
  {
   "cell_type": "markdown",
   "metadata": {
    "pycharm": {
     "name": "#%% md\n"
    }
   },
   "source": [
    "You may choose to experiment with different methods using your program. However, you need to embed the training and inference processes at here. We will use your prediction on the unlabeled test data to grade, while checking this part to understand how your method has produced the predictions."
   ]
  },
  {
   "cell_type": "code",
   "execution_count": 6,
   "metadata": {
    "pycharm": {
     "name": "#%%\n"
    }
   },
   "outputs": [],
   "source": [
    "import numpy as np\n",
    "import tensorflow as tf\n",
    "import tensorflow.keras as keras\n",
    "from keras.preprocessing.sequence import pad_sequences\n",
    "from keras.preprocessing.text import Tokenizer\n",
    "from keras.models import Sequential\n",
    "from keras.layers import Embedding, Dense, Dropout, LSTM, GRU, Bidirectional, Attention\n",
    "from keras.layers import BatchNormalization\n",
    "from keras.callbacks import EarlyStopping, TensorBoard, ModelCheckpoint\n",
    "from sklearn.metrics import accuracy_score\n",
    "from keras import regularizers\n",
    "import matplotlib.pyplot as plt\n",
    "from keras_self_attention import SeqSelfAttention\n",
    "%matplotlib inline"
   ]
  },
  {
   "cell_type": "code",
   "execution_count": 7,
   "metadata": {
    "pycharm": {
     "name": "#%%\n"
    }
   },
   "outputs": [],
   "source": [
    "# Eventually, results need to be a list of 2028 0 or 1's\n",
    "results = []"
   ]
  },
  {
   "cell_type": "code",
   "execution_count": 8,
   "metadata": {
    "pycharm": {
     "name": "#%%\n"
    }
   },
   "outputs": [],
   "source": [
    "train_texts_split = [x[1] for x in train_split]\n",
    "dev_texts_split = [x[1] for x in dev_split]\n",
    "test_texts_split = [x[0] for x in test_split]\n",
    "\n",
    "train_labels = [x[0] for x in train_split]\n",
    "dev_labels = [x[0] for x in dev_split]\n",
    "\n",
    "all_texts_split = train_texts_split + dev_texts_split + test_texts_split"
   ]
  },
  {
   "cell_type": "code",
   "execution_count": 9,
   "metadata": {
    "pycharm": {
     "name": "#%%\n"
    }
   },
   "outputs": [],
   "source": [
    "# calculate max seq len\n",
    "def get_max_seq_len(data):\n",
    "    return max([len(seq) for seq in data])\n",
    "\n",
    "# Setting the max_seq_len over all data\n",
    "max_seq_len = get_max_seq_len(all_texts_split)"
   ]
  },
  {
   "cell_type": "code",
   "execution_count": 10,
   "metadata": {
    "pycharm": {
     "name": "#%%\n"
    }
   },
   "outputs": [],
   "source": [
    "def create_vocabulary(data):\n",
    "    vocab = set()\n",
    "    for sentence in data:\n",
    "        vocab = vocab.union(set(sentence))\n",
    "    return vocab"
   ]
  },
  {
   "cell_type": "code",
   "execution_count": 11,
   "metadata": {
    "pycharm": {
     "name": "#%%\n"
    }
   },
   "outputs": [],
   "source": [
    "vocab = create_vocabulary(all_texts_split)\n",
    "vocab_size = len(vocab) + 1"
   ]
  },
  {
   "cell_type": "code",
   "execution_count": 12,
   "metadata": {
    "pycharm": {
     "name": "#%%\n"
    }
   },
   "outputs": [],
   "source": [
    "# Tokenize the dataset\n",
    "def get_padded_sequences(vocab, data, max_seq_len):\n",
    "    tokenizer = Tokenizer(filters=[])\n",
    "    tokenizer.fit_on_texts(vocab)\n",
    "    seq = tokenizer.texts_to_sequences(data)\n",
    "    seq_pad = pad_sequences(seq, maxlen=max_seq_len)\n",
    "    return seq_pad"
   ]
  },
  {
   "cell_type": "code",
   "execution_count": 13,
   "metadata": {
    "pycharm": {
     "name": "#%%\n"
    }
   },
   "outputs": [],
   "source": [
    "X_train = get_padded_sequences(vocab,train_texts_split, max_seq_len)\n",
    "X_dev = get_padded_sequences(vocab, dev_texts_split, max_seq_len)\n",
    "X_test = get_padded_sequences(vocab, test_texts_split, max_seq_len)\n",
    "\n",
    "y_train = np.array(train_labels)\n",
    "y_dev = np.array(dev_labels)\n",
    "\n",
    "X_train_dev = np.concatenate((X_train, X_dev))\n",
    "y_train_dev = np.concatenate((y_train, y_dev))"
   ]
  },
  {
   "cell_type": "code",
   "execution_count": 14,
   "metadata": {
    "pycharm": {
     "name": "#%%\n"
    }
   },
   "outputs": [],
   "source": [
    "def plot_history(history):\n",
    "    plt.plot(history.history['accuracy'])\n",
    "    plt.plot(history.history['val_accuracy'])\n",
    "    plt.title('model accuracy')\n",
    "    plt.ylabel('accuracy')\n",
    "    plt.xlabel('epoch')\n",
    "    plt.legend(['train', 'validation'], loc='upper left')\n",
    "    plt.show()"
   ]
  },
  {
   "cell_type": "code",
   "execution_count": 15,
   "metadata": {
    "pycharm": {
     "name": "#%%\n"
    }
   },
   "outputs": [
    {
     "name": "stdout",
     "output_type": "stream",
     "text": [
      "Model: \"sequential\"\n",
      "_________________________________________________________________\n",
      "Layer (type)                 Output Shape              Param #   \n",
      "=================================================================\n",
      "embedding (Embedding)        (None, 59, 32)            699712    \n",
      "_________________________________________________________________\n",
      "bidirectional (Bidirectional (None, 200)               106400    \n",
      "_________________________________________________________________\n",
      "dense (Dense)                (None, 1)                 201       \n",
      "=================================================================\n",
      "Total params: 806,313\n",
      "Trainable params: 806,313\n",
      "Non-trainable params: 0\n",
      "_________________________________________________________________\n",
      "Epoch 1/100\n",
      "127/127 [==============================] - 10s 37ms/step - loss: 8.5604 - accuracy: 0.5142 - val_loss: 1.1516 - val_accuracy: 0.5303\n",
      "Epoch 2/100\n",
      "127/127 [==============================] - 2s 17ms/step - loss: 0.7933 - accuracy: 0.5652 - val_loss: 0.6787 - val_accuracy: 0.6275\n",
      "Epoch 3/100\n",
      "127/127 [==============================] - 2s 17ms/step - loss: 0.5383 - accuracy: 0.7862 - val_loss: 0.4694 - val_accuracy: 0.8328\n",
      "Epoch 4/100\n",
      "127/127 [==============================] - 2s 18ms/step - loss: 0.3561 - accuracy: 0.8899 - val_loss: 0.4036 - val_accuracy: 0.8609\n",
      "Epoch 5/100\n",
      "127/127 [==============================] - 2s 17ms/step - loss: 0.2781 - accuracy: 0.9236 - val_loss: 0.3872 - val_accuracy: 0.8688\n",
      "Epoch 6/100\n",
      "127/127 [==============================] - 2s 18ms/step - loss: 0.2310 - accuracy: 0.9412 - val_loss: 0.3707 - val_accuracy: 0.8703\n",
      "Epoch 7/100\n",
      "127/127 [==============================] - 2s 17ms/step - loss: 0.1947 - accuracy: 0.9498 - val_loss: 0.3694 - val_accuracy: 0.8737\n",
      "Epoch 8/100\n",
      "127/127 [==============================] - 2s 17ms/step - loss: 0.1831 - accuracy: 0.9561 - val_loss: 0.3802 - val_accuracy: 0.8707\n",
      "Epoch 9/100\n",
      "127/127 [==============================] - 2s 18ms/step - loss: 0.1537 - accuracy: 0.9619 - val_loss: 0.3862 - val_accuracy: 0.8717\n",
      "Epoch 10/100\n",
      "127/127 [==============================] - 2s 18ms/step - loss: 0.1377 - accuracy: 0.9662 - val_loss: 0.4317 - val_accuracy: 0.8757\n",
      "Epoch 11/100\n",
      "127/127 [==============================] - 2s 17ms/step - loss: 0.1254 - accuracy: 0.9689 - val_loss: 0.3837 - val_accuracy: 0.8767\n",
      "Epoch 12/100\n",
      "127/127 [==============================] - 2s 18ms/step - loss: 0.1206 - accuracy: 0.9705 - val_loss: 0.4370 - val_accuracy: 0.8811\n"
     ]
    },
    {
     "data": {
      "image/png": "[encoded data removed]",
      "text/plain": [
       "<Figure size 432x288 with 1 Axes>"
      ]
     },
     "metadata": {
      "needs_background": "light"
     },
     "output_type": "display_data"
    },
    {
     "name": "stdout",
     "output_type": "stream",
     "text": [
      "64/64 - 0s - loss: 0.4370 - accuracy: 0.8811\n",
      "[0.4370401203632355, 0.8811050653457642]\n"
     ]
    }
   ],
   "source": [
    "def create_model(vocab_size, max_seq_len, embedding_len, dropout):\n",
    "    model = Sequential()\n",
    "    model.add(Embedding(vocab_size, embedding_len, input_length=max_seq_len))\n",
    "    model.add(Bidirectional(LSTM(100, \n",
    "                                 dropout=dropout, \n",
    "                                 kernel_regularizer=regularizers.l2(l2=0.1), \n",
    "                                 recurrent_regularizer=regularizers.l2(l2=0.1))))\n",
    "    model.add(Dense(1, activation='sigmoid'))\n",
    "    model.compile(loss='binary_crossentropy', optimizer='adam', metrics=['accuracy'])\n",
    "\n",
    "    model.summary()\n",
    "    \n",
    "    return  model\n",
    "\n",
    "early_stoping_callback = EarlyStopping(patience=5)\n",
    "tensorboard_callback = TensorBoard()\n",
    "\n",
    "callbacks = [\n",
    "    early_stoping_callback,\n",
    "    tensorboard_callback\n",
    "]\n",
    "\n",
    "model_checkpoint_callback = ModelCheckpoint(monitor='val_accuracy',filepath='weights.{epoch:02d}-{val_loss:.2f}.hdf5')\n",
    "\n",
    "model = create_model(vocab_size, max_seq_len, 32, 0.3)\n",
    "\n",
    "history = model.fit(X_train, y_train, epochs=100, batch_size=128, validation_data=(X_dev, y_dev), verbose=1,\n",
    "                   callbacks=callbacks)\n",
    "\n",
    "plot_history(history)\n",
    "\n",
    "scores = model.evaluate(X_dev, y_dev, verbose=2)\n",
    "print(scores)"
   ]
  },
  {
   "cell_type": "code",
   "execution_count": 16,
   "metadata": {
    "pycharm": {
     "name": "#%%\n"
    }
   },
   "outputs": [
    {
     "name": "stdout",
     "output_type": "stream",
     "text": [
      "2028\n"
     ]
    }
   ],
   "source": [
    "results = model.predict(X_test)\n",
    "results = [1 if(x > 0.5) else 0 for x in results]\n",
    "print(len(results))"
   ]
  },
  {
   "cell_type": "markdown",
   "metadata": {
    "pycharm": {
     "name": "#%% md\n"
    }
   },
   "source": [
    "### Output Prediction Result File"
   ]
  },
  {
   "cell_type": "markdown",
   "metadata": {
    "pycharm": {
     "name": "#%% md\n"
    }
   },
   "source": [
    "You will need to submit a prediction result file. It should have 2028 lines, every line should be either 0 or 1, which is your model's prediction on the respective test set instance."
   ]
  },
  {
   "cell_type": "code",
   "execution_count": 17,
   "metadata": {
    "pycharm": {
     "name": "#%%\n"
    }
   },
   "outputs": [],
   "source": [
    "# suppose you had your model's predictions on the 2028 test cases read from test_enc_unlabeled.tsv, and \n",
    "#those results are in the list called 'results'\n",
    "assert (len(results) == 2028)"
   ]
  },
  {
   "cell_type": "code",
   "execution_count": 18,
   "metadata": {
    "pycharm": {
     "name": "#%%\n"
    }
   },
   "outputs": [],
   "source": [
    "# make sure the results are not float numbers, but intergers 0 and 1\n",
    "results = [int(x) for x in results]"
   ]
  },
  {
   "cell_type": "code",
   "execution_count": 19,
   "metadata": {
    "pycharm": {
     "name": "#%%\n"
    }
   },
   "outputs": [],
   "source": [
    "# write your prediction results to 'upload_predictions.txt' and upload that later\n",
    "with open('upload_predictions.txt', 'w', encoding = 'utf-8') as fp:\n",
    "    for x in results:\n",
    "        fp.write(str(x) + '\\n')"
   ]
  },
  {
   "cell_type": "code",
   "execution_count": null,
   "metadata": {
    "pycharm": {
     "name": "#%%\n"
    }
   },
   "outputs": [],
   "source": []
  }
 ],
 "metadata": {
  "kernelspec": {
   "display_name": "Python 3 (ipykernel)",
   "language": "python",
   "name": "python3"
  },
  "language_info": {
   "codemirror_mode": {
    "name": "ipython",
    "version": 3
   },
   "file_extension": ".py",
   "mimetype": "text/x-python",
   "name": "python",
   "nbconvert_exporter": "python",
   "pygments_lexer": "ipython3",
   "version": "3.8.12"
  }
 },
 "nbformat": 4,
 "nbformat_minor": 4
}